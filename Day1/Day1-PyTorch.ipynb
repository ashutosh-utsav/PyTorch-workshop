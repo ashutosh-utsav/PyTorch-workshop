{
 "cells": [
  {
   "cell_type": "markdown",
   "id": "6a3776bf",
   "metadata": {},
   "source": [
    "# This is practice nootbook for PyTorch Workshop"
   ]
  },
  {
   "cell_type": "code",
   "execution_count": 1,
   "id": "530ed44b",
   "metadata": {},
   "outputs": [
    {
     "name": "stderr",
     "output_type": "stream",
     "text": [
      "/Users/ashutosh/Codes/workshop/DL-pyTorch/.envdl/lib/python3.13/site-packages/torch/_subclasses/functional_tensor.py:276: UserWarning: Failed to initialize NumPy: No module named 'numpy' (Triggered internally at /Users/runner/work/pytorch/pytorch/pytorch/torch/csrc/utils/tensor_numpy.cpp:81.)\n",
      "  cpu = _conversion_method_template(device=torch.device(\"cpu\"))\n"
     ]
    }
   ],
   "source": [
    "import torch"
   ]
  },
  {
   "cell_type": "code",
   "execution_count": 3,
   "id": "b37a16f3",
   "metadata": {},
   "outputs": [
    {
     "data": {
      "text/plain": [
       "'2.7.0'"
      ]
     },
     "execution_count": 3,
     "metadata": {},
     "output_type": "execute_result"
    }
   ],
   "source": [
    "#cheacking version\n",
    "\n",
    "torch.__version__"
   ]
  },
  {
   "cell_type": "code",
   "execution_count": 5,
   "id": "447b97fe",
   "metadata": {},
   "outputs": [
    {
     "data": {
      "text/plain": [
       "tensor(3)"
      ]
     },
     "execution_count": 5,
     "metadata": {},
     "output_type": "execute_result"
    }
   ],
   "source": [
    "# creating tensor \n",
    "\n",
    "first = torch.tensor(3)\n",
    "\n",
    "first "
   ]
  },
  {
   "cell_type": "code",
   "execution_count": 6,
   "id": "8ad71b28",
   "metadata": {},
   "outputs": [
    {
     "data": {
      "text/plain": [
       "0"
      ]
     },
     "execution_count": 6,
     "metadata": {},
     "output_type": "execute_result"
    }
   ],
   "source": [
    "# seeing the dimenstion or rand of tensor \n",
    "\n",
    "first.ndim"
   ]
  },
  {
   "cell_type": "code",
   "execution_count": 21,
   "id": "9adef2c4",
   "metadata": {},
   "outputs": [
    {
     "data": {
      "text/plain": [
       "2"
      ]
     },
     "execution_count": 21,
     "metadata": {},
     "output_type": "execute_result"
    }
   ],
   "source": [
    "# creating a tenser called \"a\"\n",
    "\n",
    "a = torch.tensor([[1, 2, 3, 4],[2, 3, 4 ,5]])\n",
    "\n",
    "a.ndim\n",
    "\n",
    "#we can see it is a 1 dimension tensor "
   ]
  },
  {
   "cell_type": "code",
   "execution_count": 22,
   "id": "15f2c9ad",
   "metadata": {},
   "outputs": [
    {
     "data": {
      "text/plain": [
       "torch.Size([2, 4])"
      ]
     },
     "execution_count": 22,
     "metadata": {},
     "output_type": "execute_result"
    }
   ],
   "source": [
    "# this gives output fow what is the shape of the tensor which is [row, coloumn] \n",
    "\n",
    "a.shape"
   ]
  },
  {
   "cell_type": "code",
   "execution_count": 25,
   "id": "5b9f53af",
   "metadata": {},
   "outputs": [
    {
     "data": {
      "text/plain": [
       "torch.float64"
      ]
     },
     "execution_count": 25,
     "metadata": {},
     "output_type": "execute_result"
    }
   ],
   "source": [
    "# we can fix the data type in tensor like we can check the data type by .dtype\n",
    "\n",
    "b = torch.tensor([[1, 2, 4], [2, 3, 4]], dtype=float)\n",
    "\n",
    "b.dtype"
   ]
  },
  {
   "cell_type": "code",
   "execution_count": null,
   "id": "30ebb0b0",
   "metadata": {},
   "outputs": [
    {
     "data": {
      "text/plain": [
       "tensor([[0, 0],\n",
       "        [0, 0]])"
      ]
     },
     "execution_count": 30,
     "metadata": {},
     "output_type": "execute_result"
    }
   ],
   "source": [
    "# we can also create a tensor by giing row and coloumn as input \n",
    "\n",
    "c = torch.empty((2, 2), dtype=torch.int64)\n",
    "\n",
    "\n",
    "c"
   ]
  },
  {
   "cell_type": "code",
   "execution_count": 32,
   "id": "41c5cce9",
   "metadata": {},
   "outputs": [
    {
     "data": {
      "text/plain": [
       "5124136288"
      ]
     },
     "execution_count": 32,
     "metadata": {},
     "output_type": "execute_result"
    }
   ],
   "source": [
    "# this will return thr memory address\n",
    "\n",
    "id(c)"
   ]
  },
  {
   "cell_type": "code",
   "execution_count": 39,
   "id": "05cf5e20",
   "metadata": {},
   "outputs": [
    {
     "data": {
      "text/plain": [
       "tensor([[1., 1., 1.],\n",
       "        [1., 1., 1.],\n",
       "        [1., 1., 1.]])"
      ]
     },
     "execution_count": 39,
     "metadata": {},
     "output_type": "execute_result"
    }
   ],
   "source": [
    "# now .zeros will create a 3*3 tensor whith all the value being 0 and .ones will create same thing with alue 1\n",
    "\n",
    "d = torch.ones((3, 3))\n",
    "\n",
    "d"
   ]
  },
  {
   "cell_type": "code",
   "execution_count": null,
   "id": "3d1fdd0f",
   "metadata": {},
   "outputs": [],
   "source": []
  }
 ],
 "metadata": {
  "kernelspec": {
   "display_name": ".envdl",
   "language": "python",
   "name": "python3"
  },
  "language_info": {
   "codemirror_mode": {
    "name": "ipython",
    "version": 3
   },
   "file_extension": ".py",
   "mimetype": "text/x-python",
   "name": "python",
   "nbconvert_exporter": "python",
   "pygments_lexer": "ipython3",
   "version": "3.13.2"
  }
 },
 "nbformat": 4,
 "nbformat_minor": 5
}
